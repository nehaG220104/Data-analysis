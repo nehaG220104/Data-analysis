{
 "cells": [
  {
   "cell_type": "code",
   "execution_count": 3,
   "id": "fe24eace-aff0-44a5-b20e-85b9e8636130",
   "metadata": {},
   "outputs": [],
   "source": [
    "import nltk\n",
    "from nltk.tokenize import word_tokenize,sent_tokenize\n",
    "from nltk.stem import PorterStemmer , WordNetLemmatizer\n",
    "from sklearn.feature_extraction.text import TfidfVectorizer"
   ]
  },
  {
   "cell_type": "code",
   "execution_count": 4,
   "id": "15fd7da2-296d-43c7-9502-366ec09ab787",
   "metadata": {},
   "outputs": [],
   "source": [
    "from nltk.corpus import stopwords"
   ]
  },
  {
   "cell_type": "code",
   "execution_count": 8,
   "id": "05b01fd7-4962-476b-ac49-5e55dc07ece1",
   "metadata": {},
   "outputs": [
    {
     "name": "stderr",
     "output_type": "stream",
     "text": [
      "[nltk_data] Downloading package punkt to\n",
      "[nltk_data]     C:\\Users\\DELL\\AppData\\Roaming\\nltk_data...\n",
      "[nltk_data]   Package punkt is already up-to-date!\n",
      "[nltk_data] Downloading package averaged_perceptron_tagger to\n",
      "[nltk_data]     C:\\Users\\DELL\\AppData\\Roaming\\nltk_data...\n",
      "[nltk_data]   Package averaged_perceptron_tagger is already up-to-\n",
      "[nltk_data]       date!\n",
      "[nltk_data] Downloading package stopwords to\n",
      "[nltk_data]     C:\\Users\\DELL\\AppData\\Roaming\\nltk_data...\n",
      "[nltk_data]   Package stopwords is already up-to-date!\n",
      "[nltk_data] Downloading package wordnet to\n",
      "[nltk_data]     C:\\Users\\DELL\\AppData\\Roaming\\nltk_data...\n",
      "[nltk_data]   Package wordnet is already up-to-date!\n"
     ]
    },
    {
     "data": {
      "text/plain": [
       "True"
      ]
     },
     "execution_count": 8,
     "metadata": {},
     "output_type": "execute_result"
    }
   ],
   "source": [
    "'''nltk.download('punkt')\n",
    "nltk.download('averaged_perceptron_tagger')\n",
    "nltk.download('stopwords')\n",
    "nltk.download('wordnet')'''"
   ]
  },
  {
   "cell_type": "code",
   "execution_count": 16,
   "id": "65711608-339f-45f5-b1a3-ed213c787f36",
   "metadata": {},
   "outputs": [],
   "source": [
    "text='RPA or Robotic Process Automation (RPA) refers to specialized software that can simulate actual human interaction with the Information System (IS) to carry out business processes. '"
   ]
  },
  {
   "cell_type": "code",
   "execution_count": 21,
   "id": "ce16f95a-8507-46db-96ff-1b6b81c72061",
   "metadata": {},
   "outputs": [
    {
     "data": {
      "text/plain": [
       "['RPA',\n",
       " 'or',\n",
       " 'Robotic',\n",
       " 'Process',\n",
       " 'Automation',\n",
       " '(',\n",
       " 'RPA',\n",
       " ')',\n",
       " 'refers',\n",
       " 'to',\n",
       " 'specialized',\n",
       " 'software',\n",
       " 'that',\n",
       " 'can',\n",
       " 'simulate',\n",
       " 'actual',\n",
       " 'human',\n",
       " 'interaction',\n",
       " 'with',\n",
       " 'the',\n",
       " 'Information',\n",
       " 'System',\n",
       " '(',\n",
       " 'IS',\n",
       " ')',\n",
       " 'to',\n",
       " 'carry',\n",
       " 'out',\n",
       " 'business',\n",
       " 'processes',\n",
       " '.']"
      ]
     },
     "execution_count": 21,
     "metadata": {},
     "output_type": "execute_result"
    }
   ],
   "source": [
    "token=word_tokenize(text)\n",
    "token"
   ]
  },
  {
   "cell_type": "code",
   "execution_count": 22,
   "id": "49964fab-f440-4852-b2e9-1f608fe50dcf",
   "metadata": {},
   "outputs": [],
   "source": [
    "sentence=sent_tokenize(text)"
   ]
  },
  {
   "cell_type": "code",
   "execution_count": 23,
   "id": "50c10a89-1751-4472-8327-f0e6b461bc4a",
   "metadata": {},
   "outputs": [
    {
     "data": {
      "text/plain": [
       "[('RPA', 'NNP'),\n",
       " ('or', 'CC'),\n",
       " ('Robotic', 'NNP'),\n",
       " ('Process', 'NNP'),\n",
       " ('Automation', 'NNP'),\n",
       " ('(', '('),\n",
       " ('RPA', 'NNP'),\n",
       " (')', ')'),\n",
       " ('refers', 'NNS'),\n",
       " ('to', 'TO'),\n",
       " ('specialized', 'VB'),\n",
       " ('software', 'NN'),\n",
       " ('that', 'WDT'),\n",
       " ('can', 'MD'),\n",
       " ('simulate', 'VB'),\n",
       " ('actual', 'JJ'),\n",
       " ('human', 'JJ'),\n",
       " ('interaction', 'NN'),\n",
       " ('with', 'IN'),\n",
       " ('the', 'DT'),\n",
       " ('Information', 'NN'),\n",
       " ('System', 'NNP'),\n",
       " ('(', '('),\n",
       " ('IS', 'NNP'),\n",
       " (')', ')'),\n",
       " ('to', 'TO'),\n",
       " ('carry', 'VB'),\n",
       " ('out', 'RP'),\n",
       " ('business', 'NN'),\n",
       " ('processes', 'NNS'),\n",
       " ('.', '.')]"
      ]
     },
     "execution_count": 23,
     "metadata": {},
     "output_type": "execute_result"
    }
   ],
   "source": [
    "#POS tagging(providing parts of speech to each word)\n",
    "pos=nltk.pos_tag(token)\n",
    "pos"
   ]
  },
  {
   "cell_type": "code",
   "execution_count": 26,
   "id": "40174ddb-6b2f-47b2-b55d-0de843141848",
   "metadata": {},
   "outputs": [
    {
     "data": {
      "text/plain": [
       "['RPA',\n",
       " 'Robotic',\n",
       " 'Process',\n",
       " 'Automation',\n",
       " '(',\n",
       " 'RPA',\n",
       " ')',\n",
       " 'refers',\n",
       " 'specialized',\n",
       " 'software',\n",
       " 'simulate',\n",
       " 'actual',\n",
       " 'human',\n",
       " 'interaction',\n",
       " 'Information',\n",
       " 'System',\n",
       " '(',\n",
       " ')',\n",
       " 'carry',\n",
       " 'business',\n",
       " 'processes',\n",
       " '.']"
      ]
     },
     "execution_count": 26,
     "metadata": {},
     "output_type": "execute_result"
    }
   ],
   "source": [
    "#stop word removal(remmoving the words that has no significance like 'the','is')\n",
    "stop_words=set(stopwords.words('english'))\n",
    "filtered_token= [word for word in token if word.lower() not in stop_words ] \n",
    "filtered_token"
   ]
  },
  {
   "cell_type": "code",
   "execution_count": 30,
   "id": "52caf6c4-6491-47e9-ab49-a444d0116a0f",
   "metadata": {},
   "outputs": [
    {
     "data": {
      "text/plain": [
       "['rpa',\n",
       " 'robot',\n",
       " 'process',\n",
       " 'autom',\n",
       " '(',\n",
       " 'rpa',\n",
       " ')',\n",
       " 'refer',\n",
       " 'special',\n",
       " 'softwar',\n",
       " 'simul',\n",
       " 'actual',\n",
       " 'human',\n",
       " 'interact',\n",
       " 'inform',\n",
       " 'system',\n",
       " '(',\n",
       " ')',\n",
       " 'carri',\n",
       " 'busi',\n",
       " 'process',\n",
       " '.']"
      ]
     },
     "execution_count": 30,
     "metadata": {},
     "output_type": "execute_result"
    }
   ],
   "source": [
    "#stemming(reducing word to base 'playing' = 'play' )\n",
    "stemmer = PorterStemmer()\n",
    "stemm_token = [stemmer.stem(word) for word in filtered_token]\n",
    "stemm_token"
   ]
  },
  {
   "cell_type": "code",
   "execution_count": 36,
   "id": "3873727d-394d-4c81-8cf1-c8e30b51e25d",
   "metadata": {
    "scrolled": true
   },
   "outputs": [
    {
     "data": {
      "text/plain": [
       "['RPA',\n",
       " 'Robotic',\n",
       " 'Process',\n",
       " 'Automation',\n",
       " '(',\n",
       " 'RPA',\n",
       " ')',\n",
       " 'refers',\n",
       " 'specialized',\n",
       " 'software',\n",
       " 'simulate',\n",
       " 'actual',\n",
       " 'human',\n",
       " 'interaction',\n",
       " 'Information',\n",
       " 'System',\n",
       " '(',\n",
       " ')',\n",
       " 'carry',\n",
       " 'business',\n",
       " 'process',\n",
       " '.']"
      ]
     },
     "execution_count": 36,
     "metadata": {},
     "output_type": "execute_result"
    }
   ],
   "source": [
    "#lemmatization(converts into dictionary form ran to run)\n",
    "lemmatizer = WordNetLemmatizer()\n",
    "lemmatize_token = [lemmatizer.lemmatize(word) for word in filtered_token]\n",
    "lemmatize_token"
   ]
  },
  {
   "cell_type": "code",
   "execution_count": 51,
   "id": "5c2b3c6a-7338-4269-9e5e-85e14648caa1",
   "metadata": {},
   "outputs": [],
   "source": [
    "processed_text = ' '.join(lemmatize_token)"
   ]
  },
  {
   "cell_type": "code",
   "execution_count": 52,
   "id": "b0efdb3b-d153-408c-abcf-e3e4233f1a9f",
   "metadata": {},
   "outputs": [],
   "source": [
    "vectorizer = TfidfVectorizer()"
   ]
  },
  {
   "cell_type": "code",
   "execution_count": 64,
   "id": "6353361b-8324-4578-8af5-794122d54a98",
   "metadata": {},
   "outputs": [],
   "source": [
    "# term frequency=how many times a word occur in doc\n",
    "# inverse document frequency = measure rarity of each word\n",
    "tidf = vectorizer.fit_transform([processed_text])"
   ]
  },
  {
   "cell_type": "code",
   "execution_count": 65,
   "id": "0f1f251b-084b-422e-bf5b-f0b335aa0ebe",
   "metadata": {},
   "outputs": [],
   "source": [
    "feature = vectorizer.get_feature_names_out()"
   ]
  },
  {
   "cell_type": "code",
   "execution_count": 66,
   "id": "ed7e9a3a-bd6d-494e-ae70-297c470c35f7",
   "metadata": {},
   "outputs": [
    {
     "name": "stdout",
     "output_type": "stream",
     "text": [
      "Matrix\n",
      "[[0.21821789 0.21821789 0.21821789 0.21821789 0.21821789 0.21821789\n",
      "  0.21821789 0.43643578 0.21821789 0.21821789 0.43643578 0.21821789\n",
      "  0.21821789 0.21821789 0.21821789]]\n",
      "['actual' 'automation' 'business' 'carry' 'human' 'information'\n",
      " 'interaction' 'process' 'refers' 'robotic' 'rpa' 'simulate' 'software'\n",
      " 'specialized' 'system']\n"
     ]
    }
   ],
   "source": [
    "print('Matrix')\n",
    "print(tidf.toarray())\n",
    "print(feature)"
   ]
  },
  {
   "cell_type": "code",
   "execution_count": 68,
   "id": "052ce8a2-5226-41b8-a43d-36fc1c0554dd",
   "metadata": {},
   "outputs": [
    {
     "data": {
      "text/plain": [
       "array([1., 1., 1., 1., 1., 1., 1., 1., 1., 1., 1., 1., 1., 1., 1.])"
      ]
     },
     "execution_count": 68,
     "metadata": {},
     "output_type": "execute_result"
    }
   ],
   "source": [
    "vectorizer.idf_"
   ]
  },
  {
   "cell_type": "code",
   "execution_count": 59,
   "id": "2c789d97-df2b-455f-8d55-77ae7c552f05",
   "metadata": {},
   "outputs": [],
   "source": [
    "#extra eg\n",
    "doc1='this is first document'\n",
    "doc2='this is second document'\n",
    "string=[doc1,doc2]"
   ]
  },
  {
   "cell_type": "code",
   "execution_count": 60,
   "id": "9efaa2b3-563f-4fca-97be-84c889da72be",
   "metadata": {},
   "outputs": [],
   "source": [
    "vectorizer = TfidfVectorizer()\n",
    "tfidfMatrix = vectorizer.fit_transform(string)"
   ]
  },
  {
   "cell_type": "code",
   "execution_count": 61,
   "id": "1b49dda7-2a34-4657-b1e1-77385e54f3ec",
   "metadata": {},
   "outputs": [
    {
     "name": "stdout",
     "output_type": "stream",
     "text": [
      "[[0.44832087 0.63009934 0.44832087 0.         0.44832087]\n",
      " [0.44832087 0.         0.44832087 0.63009934 0.44832087]]\n",
      "['document' 'first' 'is' 'second' 'this']\n"
     ]
    }
   ],
   "source": [
    "print(tfidfMatrix.toarray())\n",
    "feature = vectorizer.get_feature_names_out()\n",
    "print(feature)"
   ]
  },
  {
   "cell_type": "code",
   "execution_count": 62,
   "id": "880b2e0b-1c4f-4f69-8a31-1bb90325e997",
   "metadata": {},
   "outputs": [
    {
     "name": "stdout",
     "output_type": "stream",
     "text": [
      "[1.         1.40546511 1.         1.40546511 1.        ]\n"
     ]
    }
   ],
   "source": [
    "print(vectorizer.idf_)"
   ]
  },
  {
   "cell_type": "code",
   "execution_count": null,
   "id": "3cf18f34-d2f7-4f98-9ba5-64495479e715",
   "metadata": {},
   "outputs": [],
   "source": [
    "idf"
   ]
  },
  {
   "cell_type": "code",
   "execution_count": null,
   "id": "8d47509a-0b6a-4d4a-90b5-0a64bbb6f473",
   "metadata": {},
   "outputs": [],
   "source": []
  }
 ],
 "metadata": {
  "kernelspec": {
   "display_name": "Python 3 (ipykernel)",
   "language": "python",
   "name": "python3"
  },
  "language_info": {
   "codemirror_mode": {
    "name": "ipython",
    "version": 3
   },
   "file_extension": ".py",
   "mimetype": "text/x-python",
   "name": "python",
   "nbconvert_exporter": "python",
   "pygments_lexer": "ipython3",
   "version": "3.11.7"
  }
 },
 "nbformat": 4,
 "nbformat_minor": 5
}
